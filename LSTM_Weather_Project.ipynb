{
  "nbformat": 4,
  "nbformat_minor": 0,
  "metadata": {
    "colab": {
      "provenance": [],
      "authorship_tag": "ABX9TyPJmBmgMI/l4yK8u15UOGhq"
    },
    "kernelspec": {
      "name": "python3",
      "display_name": "Python 3"
    },
    "language_info": {
      "name": "python"
    }
  },
  "cells": [
    {
      "cell_type": "code",
      "execution_count": 2,
      "metadata": {
        "id": "1wIwI90QLvta"
      },
      "outputs": [],
      "source": [
        "import requests\n",
        "import pandas as pd\n",
        "import numpy as np\n",
        "import matplotlib.pyplot as plt\n",
        "from tensorflow import keras\n",
        "from tensorflow.keras import layers\n",
        "import gradio as gr\n",
        "from sklearn.preprocessing import MinMaxScaler"
      ]
    },
    {
      "cell_type": "code",
      "source": [
        "def geocode_city(city_name: str):\n",
        "\n",
        "    url = \"https://geocoding-api.open-meteo.com/v1/search\"\n",
        "    params = {\"name\": city_name, \"count\": 1, \"language\": \"en\"}\n",
        "    r = requests.get(url, params=params, timeout=15)\n",
        "    r.raise_for_status()\n",
        "    data = r.json()\n",
        "    if not data.get(\"results\"):\n",
        "        raise ValueError(\"City not found. Try 'Penang', 'Singapore', 'London', etc.\")\n",
        "    res = data[\"results\"][0]\n",
        "    return {\n",
        "        \"label\": f\"{res['name']}, {res.get('country_code','')}\".strip(\", \"),\n",
        "        \"lat\": res[\"latitude\"],\n",
        "        \"lon\": res[\"longitude\"],\n",
        "        \"timezone\": res.get(\"timezone\", \"auto\"),\n",
        "    }"
      ],
      "metadata": {
        "id": "3motkX_mONju"
      },
      "execution_count": 3,
      "outputs": []
    },
    {
      "cell_type": "code",
      "source": [
        "geocode_city(\"Penang\")"
      ],
      "metadata": {
        "colab": {
          "base_uri": "https://localhost:8080/"
        },
        "id": "POJCXs3VOSMV",
        "outputId": "21803805-2bb9-44fa-fad4-faef9b698b10"
      },
      "execution_count": 4,
      "outputs": [
        {
          "output_type": "execute_result",
          "data": {
            "text/plain": [
              "{'label': 'Penang, MY',\n",
              " 'lat': 5.37292,\n",
              " 'lon': 100.24963,\n",
              " 'timezone': 'Asia/Kuala_Lumpur'}"
            ]
          },
          "metadata": {},
          "execution_count": 4
        }
      ]
    },
    {
      "cell_type": "code",
      "source": [
        "latitude =  list(geocode_city(\"Penang\").values())[1]\n",
        "latitude\n"
      ],
      "metadata": {
        "colab": {
          "base_uri": "https://localhost:8080/"
        },
        "id": "CGvW2iYjOhrr",
        "outputId": "3488f1cb-a5c3-4df6-d5bd-2056e4b74176"
      },
      "execution_count": 5,
      "outputs": [
        {
          "output_type": "execute_result",
          "data": {
            "text/plain": [
              "5.37292"
            ]
          },
          "metadata": {},
          "execution_count": 5
        }
      ]
    },
    {
      "cell_type": "code",
      "source": [
        "#Get the longitude value\n",
        "longitude = list(geocode_city(\"Kuala Lumpur\").values())[2]\n",
        "longitude"
      ],
      "metadata": {
        "colab": {
          "base_uri": "https://localhost:8080/"
        },
        "id": "N-lDhxZHOji8",
        "outputId": "3de2cfb3-4bb5-4113-b446-3f75b8a85f26"
      },
      "execution_count": 6,
      "outputs": [
        {
          "output_type": "execute_result",
          "data": {
            "text/plain": [
              "101.68653"
            ]
          },
          "metadata": {},
          "execution_count": 6
        }
      ]
    },
    {
      "cell_type": "code",
      "source": [
        "#Get the timezone\n",
        "timezone = list(geocode_city(\"Kuala Lumpur\").values())[3]\n",
        "timezone"
      ],
      "metadata": {
        "colab": {
          "base_uri": "https://localhost:8080/",
          "height": 36
        },
        "id": "5cVX6aErOmiL",
        "outputId": "b4b5d388-9c54-4265-87a0-85eec19c86f5"
      },
      "execution_count": 7,
      "outputs": [
        {
          "output_type": "execute_result",
          "data": {
            "text/plain": [
              "'Asia/Kuala_Lumpur'"
            ],
            "application/vnd.google.colaboratory.intrinsic+json": {
              "type": "string"
            }
          },
          "metadata": {},
          "execution_count": 7
        }
      ]
    },
    {
      "cell_type": "code",
      "source": [
        "# Fetching Hourly Temprature\n",
        "def fetch_hourly_temperature(lat: float, lon: float, timezone=\"auto\", past_days=7):\n",
        "    \"\"\"\n",
        "    Get recent hourly temperature (Celsius) for the last few days.\n",
        "    No API key needed.\n",
        "    \"\"\"\n",
        "    url = \"https://api.open-meteo.com/v1/forecast\"\n",
        "    params = {\n",
        "        \"latitude\": lat,\n",
        "        \"longitude\": lon,\n",
        "        \"hourly\": \"temperature_2m\",\n",
        "        \"past_days\": past_days,\n",
        "        \"forecast_days\": 1,      # include today\n",
        "        \"timezone\": timezone,\n",
        "    }\n",
        "    r = requests.get(url, params=params, timeout=20)\n",
        "    r.raise_for_status()\n",
        "    js = r.json()\n",
        "    times = js[\"hourly\"][\"time\"]\n",
        "    temps = js[\"hourly\"][\"temperature_2m\"]\n",
        "    df = pd.DataFrame({\"time\": pd.to_datetime(times), \"temp\": temps}).dropna()\n",
        "    return df.reset_index(drop=True)"
      ],
      "metadata": {
        "id": "J7DtMHlwOpTq"
      },
      "execution_count": 8,
      "outputs": []
    },
    {
      "cell_type": "code",
      "source": [
        "# dataframe\n",
        "df = fetch_hourly_temperature(latitude,longitude,timezone)\n",
        "\n",
        "df"
      ],
      "metadata": {
        "colab": {
          "base_uri": "https://localhost:8080/",
          "height": 423
        },
        "id": "Hdnz9--DOwpV",
        "outputId": "94972d34-0232-4b02-f827-13d6948ee7c0"
      },
      "execution_count": 9,
      "outputs": [
        {
          "output_type": "execute_result",
          "data": {
            "text/plain": [
              "                   time  temp\n",
              "0   2025-09-06 00:00:00  22.5\n",
              "1   2025-09-06 01:00:00  22.2\n",
              "2   2025-09-06 02:00:00  22.0\n",
              "3   2025-09-06 03:00:00  21.8\n",
              "4   2025-09-06 04:00:00  21.6\n",
              "..                  ...   ...\n",
              "187 2025-09-13 19:00:00  24.8\n",
              "188 2025-09-13 20:00:00  24.0\n",
              "189 2025-09-13 21:00:00  23.6\n",
              "190 2025-09-13 22:00:00  23.4\n",
              "191 2025-09-13 23:00:00  23.3\n",
              "\n",
              "[192 rows x 2 columns]"
            ],
            "text/html": [
              "\n",
              "  <div id=\"df-d3d1a2fc-0e3b-4461-8f54-343e3a55a6bb\" class=\"colab-df-container\">\n",
              "    <div>\n",
              "<style scoped>\n",
              "    .dataframe tbody tr th:only-of-type {\n",
              "        vertical-align: middle;\n",
              "    }\n",
              "\n",
              "    .dataframe tbody tr th {\n",
              "        vertical-align: top;\n",
              "    }\n",
              "\n",
              "    .dataframe thead th {\n",
              "        text-align: right;\n",
              "    }\n",
              "</style>\n",
              "<table border=\"1\" class=\"dataframe\">\n",
              "  <thead>\n",
              "    <tr style=\"text-align: right;\">\n",
              "      <th></th>\n",
              "      <th>time</th>\n",
              "      <th>temp</th>\n",
              "    </tr>\n",
              "  </thead>\n",
              "  <tbody>\n",
              "    <tr>\n",
              "      <th>0</th>\n",
              "      <td>2025-09-06 00:00:00</td>\n",
              "      <td>22.5</td>\n",
              "    </tr>\n",
              "    <tr>\n",
              "      <th>1</th>\n",
              "      <td>2025-09-06 01:00:00</td>\n",
              "      <td>22.2</td>\n",
              "    </tr>\n",
              "    <tr>\n",
              "      <th>2</th>\n",
              "      <td>2025-09-06 02:00:00</td>\n",
              "      <td>22.0</td>\n",
              "    </tr>\n",
              "    <tr>\n",
              "      <th>3</th>\n",
              "      <td>2025-09-06 03:00:00</td>\n",
              "      <td>21.8</td>\n",
              "    </tr>\n",
              "    <tr>\n",
              "      <th>4</th>\n",
              "      <td>2025-09-06 04:00:00</td>\n",
              "      <td>21.6</td>\n",
              "    </tr>\n",
              "    <tr>\n",
              "      <th>...</th>\n",
              "      <td>...</td>\n",
              "      <td>...</td>\n",
              "    </tr>\n",
              "    <tr>\n",
              "      <th>187</th>\n",
              "      <td>2025-09-13 19:00:00</td>\n",
              "      <td>24.8</td>\n",
              "    </tr>\n",
              "    <tr>\n",
              "      <th>188</th>\n",
              "      <td>2025-09-13 20:00:00</td>\n",
              "      <td>24.0</td>\n",
              "    </tr>\n",
              "    <tr>\n",
              "      <th>189</th>\n",
              "      <td>2025-09-13 21:00:00</td>\n",
              "      <td>23.6</td>\n",
              "    </tr>\n",
              "    <tr>\n",
              "      <th>190</th>\n",
              "      <td>2025-09-13 22:00:00</td>\n",
              "      <td>23.4</td>\n",
              "    </tr>\n",
              "    <tr>\n",
              "      <th>191</th>\n",
              "      <td>2025-09-13 23:00:00</td>\n",
              "      <td>23.3</td>\n",
              "    </tr>\n",
              "  </tbody>\n",
              "</table>\n",
              "<p>192 rows × 2 columns</p>\n",
              "</div>\n",
              "    <div class=\"colab-df-buttons\">\n",
              "\n",
              "  <div class=\"colab-df-container\">\n",
              "    <button class=\"colab-df-convert\" onclick=\"convertToInteractive('df-d3d1a2fc-0e3b-4461-8f54-343e3a55a6bb')\"\n",
              "            title=\"Convert this dataframe to an interactive table.\"\n",
              "            style=\"display:none;\">\n",
              "\n",
              "  <svg xmlns=\"http://www.w3.org/2000/svg\" height=\"24px\" viewBox=\"0 -960 960 960\">\n",
              "    <path d=\"M120-120v-720h720v720H120Zm60-500h600v-160H180v160Zm220 220h160v-160H400v160Zm0 220h160v-160H400v160ZM180-400h160v-160H180v160Zm440 0h160v-160H620v160ZM180-180h160v-160H180v160Zm440 0h160v-160H620v160Z\"/>\n",
              "  </svg>\n",
              "    </button>\n",
              "\n",
              "  <style>\n",
              "    .colab-df-container {\n",
              "      display:flex;\n",
              "      gap: 12px;\n",
              "    }\n",
              "\n",
              "    .colab-df-convert {\n",
              "      background-color: #E8F0FE;\n",
              "      border: none;\n",
              "      border-radius: 50%;\n",
              "      cursor: pointer;\n",
              "      display: none;\n",
              "      fill: #1967D2;\n",
              "      height: 32px;\n",
              "      padding: 0 0 0 0;\n",
              "      width: 32px;\n",
              "    }\n",
              "\n",
              "    .colab-df-convert:hover {\n",
              "      background-color: #E2EBFA;\n",
              "      box-shadow: 0px 1px 2px rgba(60, 64, 67, 0.3), 0px 1px 3px 1px rgba(60, 64, 67, 0.15);\n",
              "      fill: #174EA6;\n",
              "    }\n",
              "\n",
              "    .colab-df-buttons div {\n",
              "      margin-bottom: 4px;\n",
              "    }\n",
              "\n",
              "    [theme=dark] .colab-df-convert {\n",
              "      background-color: #3B4455;\n",
              "      fill: #D2E3FC;\n",
              "    }\n",
              "\n",
              "    [theme=dark] .colab-df-convert:hover {\n",
              "      background-color: #434B5C;\n",
              "      box-shadow: 0px 1px 3px 1px rgba(0, 0, 0, 0.15);\n",
              "      filter: drop-shadow(0px 1px 2px rgba(0, 0, 0, 0.3));\n",
              "      fill: #FFFFFF;\n",
              "    }\n",
              "  </style>\n",
              "\n",
              "    <script>\n",
              "      const buttonEl =\n",
              "        document.querySelector('#df-d3d1a2fc-0e3b-4461-8f54-343e3a55a6bb button.colab-df-convert');\n",
              "      buttonEl.style.display =\n",
              "        google.colab.kernel.accessAllowed ? 'block' : 'none';\n",
              "\n",
              "      async function convertToInteractive(key) {\n",
              "        const element = document.querySelector('#df-d3d1a2fc-0e3b-4461-8f54-343e3a55a6bb');\n",
              "        const dataTable =\n",
              "          await google.colab.kernel.invokeFunction('convertToInteractive',\n",
              "                                                    [key], {});\n",
              "        if (!dataTable) return;\n",
              "\n",
              "        const docLinkHtml = 'Like what you see? Visit the ' +\n",
              "          '<a target=\"_blank\" href=https://colab.research.google.com/notebooks/data_table.ipynb>data table notebook</a>'\n",
              "          + ' to learn more about interactive tables.';\n",
              "        element.innerHTML = '';\n",
              "        dataTable['output_type'] = 'display_data';\n",
              "        await google.colab.output.renderOutput(dataTable, element);\n",
              "        const docLink = document.createElement('div');\n",
              "        docLink.innerHTML = docLinkHtml;\n",
              "        element.appendChild(docLink);\n",
              "      }\n",
              "    </script>\n",
              "  </div>\n",
              "\n",
              "\n",
              "    <div id=\"df-264ece51-fc24-4e19-8298-739cce405a56\">\n",
              "      <button class=\"colab-df-quickchart\" onclick=\"quickchart('df-264ece51-fc24-4e19-8298-739cce405a56')\"\n",
              "                title=\"Suggest charts\"\n",
              "                style=\"display:none;\">\n",
              "\n",
              "<svg xmlns=\"http://www.w3.org/2000/svg\" height=\"24px\"viewBox=\"0 0 24 24\"\n",
              "     width=\"24px\">\n",
              "    <g>\n",
              "        <path d=\"M19 3H5c-1.1 0-2 .9-2 2v14c0 1.1.9 2 2 2h14c1.1 0 2-.9 2-2V5c0-1.1-.9-2-2-2zM9 17H7v-7h2v7zm4 0h-2V7h2v10zm4 0h-2v-4h2v4z\"/>\n",
              "    </g>\n",
              "</svg>\n",
              "      </button>\n",
              "\n",
              "<style>\n",
              "  .colab-df-quickchart {\n",
              "      --bg-color: #E8F0FE;\n",
              "      --fill-color: #1967D2;\n",
              "      --hover-bg-color: #E2EBFA;\n",
              "      --hover-fill-color: #174EA6;\n",
              "      --disabled-fill-color: #AAA;\n",
              "      --disabled-bg-color: #DDD;\n",
              "  }\n",
              "\n",
              "  [theme=dark] .colab-df-quickchart {\n",
              "      --bg-color: #3B4455;\n",
              "      --fill-color: #D2E3FC;\n",
              "      --hover-bg-color: #434B5C;\n",
              "      --hover-fill-color: #FFFFFF;\n",
              "      --disabled-bg-color: #3B4455;\n",
              "      --disabled-fill-color: #666;\n",
              "  }\n",
              "\n",
              "  .colab-df-quickchart {\n",
              "    background-color: var(--bg-color);\n",
              "    border: none;\n",
              "    border-radius: 50%;\n",
              "    cursor: pointer;\n",
              "    display: none;\n",
              "    fill: var(--fill-color);\n",
              "    height: 32px;\n",
              "    padding: 0;\n",
              "    width: 32px;\n",
              "  }\n",
              "\n",
              "  .colab-df-quickchart:hover {\n",
              "    background-color: var(--hover-bg-color);\n",
              "    box-shadow: 0 1px 2px rgba(60, 64, 67, 0.3), 0 1px 3px 1px rgba(60, 64, 67, 0.15);\n",
              "    fill: var(--button-hover-fill-color);\n",
              "  }\n",
              "\n",
              "  .colab-df-quickchart-complete:disabled,\n",
              "  .colab-df-quickchart-complete:disabled:hover {\n",
              "    background-color: var(--disabled-bg-color);\n",
              "    fill: var(--disabled-fill-color);\n",
              "    box-shadow: none;\n",
              "  }\n",
              "\n",
              "  .colab-df-spinner {\n",
              "    border: 2px solid var(--fill-color);\n",
              "    border-color: transparent;\n",
              "    border-bottom-color: var(--fill-color);\n",
              "    animation:\n",
              "      spin 1s steps(1) infinite;\n",
              "  }\n",
              "\n",
              "  @keyframes spin {\n",
              "    0% {\n",
              "      border-color: transparent;\n",
              "      border-bottom-color: var(--fill-color);\n",
              "      border-left-color: var(--fill-color);\n",
              "    }\n",
              "    20% {\n",
              "      border-color: transparent;\n",
              "      border-left-color: var(--fill-color);\n",
              "      border-top-color: var(--fill-color);\n",
              "    }\n",
              "    30% {\n",
              "      border-color: transparent;\n",
              "      border-left-color: var(--fill-color);\n",
              "      border-top-color: var(--fill-color);\n",
              "      border-right-color: var(--fill-color);\n",
              "    }\n",
              "    40% {\n",
              "      border-color: transparent;\n",
              "      border-right-color: var(--fill-color);\n",
              "      border-top-color: var(--fill-color);\n",
              "    }\n",
              "    60% {\n",
              "      border-color: transparent;\n",
              "      border-right-color: var(--fill-color);\n",
              "    }\n",
              "    80% {\n",
              "      border-color: transparent;\n",
              "      border-right-color: var(--fill-color);\n",
              "      border-bottom-color: var(--fill-color);\n",
              "    }\n",
              "    90% {\n",
              "      border-color: transparent;\n",
              "      border-bottom-color: var(--fill-color);\n",
              "    }\n",
              "  }\n",
              "</style>\n",
              "\n",
              "      <script>\n",
              "        async function quickchart(key) {\n",
              "          const quickchartButtonEl =\n",
              "            document.querySelector('#' + key + ' button');\n",
              "          quickchartButtonEl.disabled = true;  // To prevent multiple clicks.\n",
              "          quickchartButtonEl.classList.add('colab-df-spinner');\n",
              "          try {\n",
              "            const charts = await google.colab.kernel.invokeFunction(\n",
              "                'suggestCharts', [key], {});\n",
              "          } catch (error) {\n",
              "            console.error('Error during call to suggestCharts:', error);\n",
              "          }\n",
              "          quickchartButtonEl.classList.remove('colab-df-spinner');\n",
              "          quickchartButtonEl.classList.add('colab-df-quickchart-complete');\n",
              "        }\n",
              "        (() => {\n",
              "          let quickchartButtonEl =\n",
              "            document.querySelector('#df-264ece51-fc24-4e19-8298-739cce405a56 button');\n",
              "          quickchartButtonEl.style.display =\n",
              "            google.colab.kernel.accessAllowed ? 'block' : 'none';\n",
              "        })();\n",
              "      </script>\n",
              "    </div>\n",
              "\n",
              "  <div id=\"id_91ea987d-14a0-42a4-bde1-baa8ced1872b\">\n",
              "    <style>\n",
              "      .colab-df-generate {\n",
              "        background-color: #E8F0FE;\n",
              "        border: none;\n",
              "        border-radius: 50%;\n",
              "        cursor: pointer;\n",
              "        display: none;\n",
              "        fill: #1967D2;\n",
              "        height: 32px;\n",
              "        padding: 0 0 0 0;\n",
              "        width: 32px;\n",
              "      }\n",
              "\n",
              "      .colab-df-generate:hover {\n",
              "        background-color: #E2EBFA;\n",
              "        box-shadow: 0px 1px 2px rgba(60, 64, 67, 0.3), 0px 1px 3px 1px rgba(60, 64, 67, 0.15);\n",
              "        fill: #174EA6;\n",
              "      }\n",
              "\n",
              "      [theme=dark] .colab-df-generate {\n",
              "        background-color: #3B4455;\n",
              "        fill: #D2E3FC;\n",
              "      }\n",
              "\n",
              "      [theme=dark] .colab-df-generate:hover {\n",
              "        background-color: #434B5C;\n",
              "        box-shadow: 0px 1px 3px 1px rgba(0, 0, 0, 0.15);\n",
              "        filter: drop-shadow(0px 1px 2px rgba(0, 0, 0, 0.3));\n",
              "        fill: #FFFFFF;\n",
              "      }\n",
              "    </style>\n",
              "    <button class=\"colab-df-generate\" onclick=\"generateWithVariable('df')\"\n",
              "            title=\"Generate code using this dataframe.\"\n",
              "            style=\"display:none;\">\n",
              "\n",
              "  <svg xmlns=\"http://www.w3.org/2000/svg\" height=\"24px\"viewBox=\"0 0 24 24\"\n",
              "       width=\"24px\">\n",
              "    <path d=\"M7,19H8.4L18.45,9,17,7.55,7,17.6ZM5,21V16.75L18.45,3.32a2,2,0,0,1,2.83,0l1.4,1.43a1.91,1.91,0,0,1,.58,1.4,1.91,1.91,0,0,1-.58,1.4L9.25,21ZM18.45,9,17,7.55Zm-12,3A5.31,5.31,0,0,0,4.9,8.1,5.31,5.31,0,0,0,1,6.5,5.31,5.31,0,0,0,4.9,4.9,5.31,5.31,0,0,0,6.5,1,5.31,5.31,0,0,0,8.1,4.9,5.31,5.31,0,0,0,12,6.5,5.46,5.46,0,0,0,6.5,12Z\"/>\n",
              "  </svg>\n",
              "    </button>\n",
              "    <script>\n",
              "      (() => {\n",
              "      const buttonEl =\n",
              "        document.querySelector('#id_91ea987d-14a0-42a4-bde1-baa8ced1872b button.colab-df-generate');\n",
              "      buttonEl.style.display =\n",
              "        google.colab.kernel.accessAllowed ? 'block' : 'none';\n",
              "\n",
              "      buttonEl.onclick = () => {\n",
              "        google.colab.notebook.generateWithVariable('df');\n",
              "      }\n",
              "      })();\n",
              "    </script>\n",
              "  </div>\n",
              "\n",
              "    </div>\n",
              "  </div>\n"
            ],
            "application/vnd.google.colaboratory.intrinsic+json": {
              "type": "dataframe",
              "variable_name": "df",
              "summary": "{\n  \"name\": \"df\",\n  \"rows\": 192,\n  \"fields\": [\n    {\n      \"column\": \"time\",\n      \"properties\": {\n        \"dtype\": \"date\",\n        \"min\": \"2025-09-06 00:00:00\",\n        \"max\": \"2025-09-13 23:00:00\",\n        \"num_unique_values\": 192,\n        \"samples\": [\n          \"2025-09-07 21:00:00\",\n          \"2025-09-11 16:00:00\",\n          \"2025-09-09 04:00:00\"\n        ],\n        \"semantic_type\": \"\",\n        \"description\": \"\"\n      }\n    },\n    {\n      \"column\": \"temp\",\n      \"properties\": {\n        \"dtype\": \"number\",\n        \"std\": 2.966646873769689,\n        \"min\": 20.1,\n        \"max\": 31.5,\n        \"num_unique_values\": 90,\n        \"samples\": [\n          21.2,\n          22.6,\n          26.2\n        ],\n        \"semantic_type\": \"\",\n        \"description\": \"\"\n      }\n    }\n  ]\n}"
            }
          },
          "metadata": {},
          "execution_count": 9
        }
      ]
    },
    {
      "cell_type": "code",
      "source": [
        "#visualizing the data\n",
        "import matplotlib.pyplot as plt\n",
        "\n",
        "plt.figure(figsize=(12,8))\n",
        "plt.plot(df['time'],df['temp'])\n",
        "plt.title('Time vs Temperature')\n",
        "plt.xlabel('Date')\n",
        "plt.ylabel(\"Temperature\")\n"
      ],
      "metadata": {
        "colab": {
          "base_uri": "https://localhost:8080/",
          "height": 736
        },
        "id": "oUAJikK4Ozp1",
        "outputId": "a23afae2-fa58-4d0d-cde6-aca47a28b028"
      },
      "execution_count": 10,
      "outputs": [
        {
          "output_type": "execute_result",
          "data": {
            "text/plain": [
              "Text(0, 0.5, 'Temperature')"
            ]
          },
          "metadata": {},
          "execution_count": 10
        },
        {
          "output_type": "display_data",
          "data": {
            "text/plain": [
              "<Figure size 1200x800 with 1 Axes>"
            ],
            "image/png": "[encoded data removed]"
          },
          "metadata": {}
        }
      ]
    },
    {
      "cell_type": "code",
      "source": [
        "def make_windows(series: np.ndarray, window: int = 24):\n",
        "\n",
        "    X, y = [], []\n",
        "    for i in range(len(series) - window):\n",
        "        X.append(series[i:i+window])\n",
        "        y.append(series[i+window])\n",
        "    X = np.array(X, dtype=\"float32\")[..., np.newaxis]\n",
        "    y = np.array(y, dtype=\"float32\")\n",
        "    return X, y"
      ],
      "metadata": {
        "id": "MwXV8oxWQ52T"
      },
      "execution_count": 11,
      "outputs": []
    },
    {
      "cell_type": "code",
      "source": [
        "X,y = make_windows(df['temp'].values)"
      ],
      "metadata": {
        "id": "z2URpaS8Q8WS"
      },
      "execution_count": 12,
      "outputs": []
    },
    {
      "cell_type": "code",
      "source": [
        "X\n"
      ],
      "metadata": {
        "colab": {
          "base_uri": "https://localhost:8080/"
        },
        "id": "x6FVKd2JREsC",
        "outputId": "6382464f-5904-438d-edae-75419c1637f9"
      },
      "execution_count": 14,
      "outputs": [
        {
          "output_type": "execute_result",
          "data": {
            "text/plain": [
              "array([[[22.5],\n",
              "        [22.2],\n",
              "        [22. ],\n",
              "        ...,\n",
              "        [25.7],\n",
              "        [23.8],\n",
              "        [23.2]],\n",
              "\n",
              "       [[22.2],\n",
              "        [22. ],\n",
              "        [21.8],\n",
              "        ...,\n",
              "        [23.8],\n",
              "        [23.2],\n",
              "        [23. ]],\n",
              "\n",
              "       [[22. ],\n",
              "        [21.8],\n",
              "        [21.6],\n",
              "        ...,\n",
              "        [23.2],\n",
              "        [23. ],\n",
              "        [22.6]],\n",
              "\n",
              "       ...,\n",
              "\n",
              "       [[22.7],\n",
              "        [22.5],\n",
              "        [22.2],\n",
              "        ...,\n",
              "        [26.2],\n",
              "        [24.8],\n",
              "        [24. ]],\n",
              "\n",
              "       [[22.5],\n",
              "        [22.2],\n",
              "        [22. ],\n",
              "        ...,\n",
              "        [24.8],\n",
              "        [24. ],\n",
              "        [23.6]],\n",
              "\n",
              "       [[22.2],\n",
              "        [22. ],\n",
              "        [21.7],\n",
              "        ...,\n",
              "        [24. ],\n",
              "        [23.6],\n",
              "        [23.4]]], dtype=float32)"
            ]
          },
          "metadata": {},
          "execution_count": 14
        }
      ]
    },
    {
      "cell_type": "code",
      "source": [
        "y"
      ],
      "metadata": {
        "colab": {
          "base_uri": "https://localhost:8080/"
        },
        "id": "GRv9h40uRHsc",
        "outputId": "36dc05be-344f-4f3a-cc48-fa21e8d8cb73"
      },
      "execution_count": 17,
      "outputs": [
        {
          "output_type": "execute_result",
          "data": {
            "text/plain": [
              "array([23. , 22.6, 22.1, 22. , 21.8, 21.7, 21.6, 21.8, 23.1, 24.6, 25.8,\n",
              "       27.2, 28.1, 28.9, 28.7, 29.1, 28.8, 27.8, 27.3, 26.6, 24.5, 23.8,\n",
              "       23.5, 23.2, 23.1, 22.7, 22.4, 22.2, 21.9, 21.7, 21.3, 21.2, 21.8,\n",
              "       25.1, 26.8, 28.2, 29.5, 30.6, 31.5, 31.3, 30.4, 27.5, 26.9, 25.9,\n",
              "       24.4, 24.1, 23.8, 23.5, 23.3, 23.1, 22.6, 22.4, 22.2, 22.1, 22.1,\n",
              "       22. , 21.9, 23.2, 24.1, 24.7, 25.1, 26.2, 26.5, 26.9, 27.4, 27.5,\n",
              "       26.9, 26. , 25.1, 24.1, 23.1, 22.7, 22.4, 22.3, 22.3, 22.2, 22.1,\n",
              "       21.9, 21.9, 22. , 22.6, 24.7, 26.3, 27.5, 29.2, 29.8, 30.3, 30. ,\n",
              "       29.6, 28.6, 26.7, 25.9, 25.1, 24.3, 23.8, 23.2, 22.7, 22.4, 21.8,\n",
              "       21.5, 21.2, 20.9, 20.7, 20.5, 21.8, 25.2, 26.6, 27.9, 29. , 29.9,\n",
              "       31. , 30.7, 30.4, 29.5, 28.2, 26.4, 25.3, 24.7, 24.2, 23.4, 23.1,\n",
              "       22.7, 22.4, 22.3, 22.1, 21.6, 21.3, 20.9, 21.6, 25. , 26.4, 27.1,\n",
              "       28.1, 28.8, 28.7, 27.5, 26.5, 25.6, 24.6, 23.8, 22.9, 22.7, 22.5,\n",
              "       22.2, 22. , 21.7, 21.5, 21.2, 20.8, 20.4, 20.1, 20.1, 20.9, 24. ,\n",
              "       24.8, 25.6, 26.4, 27.4, 28.2, 28.4, 27.5, 27. , 26.2, 24.8, 24. ,\n",
              "       23.6, 23.4, 23.3], dtype=float32)"
            ]
          },
          "metadata": {},
          "execution_count": 17
        }
      ]
    },
    {
      "cell_type": "code",
      "source": [
        "def build_lstm(window=24):\n",
        "\n",
        "  model = keras.Sequential([\n",
        "      layers.Input(shape=(window,1)),#(window,1)-> Indicates the input dimension which is (24,1)\n",
        "      layers.LSTM(32),#32 memory cells\n",
        "      layers.Dense(1),#Output which is 1 prediction at a time\n",
        "  ])\n",
        "  model.compile(optimizer='adam',loss='mse')\n",
        "  return model"
      ],
      "metadata": {
        "id": "n_HRghnbRKcR"
      },
      "execution_count": 18,
      "outputs": []
    },
    {
      "cell_type": "code",
      "source": [
        "\n",
        "#Temperature value is what we are predicting\n",
        "#Window we set 24 for 24 hours timeframe\n",
        "#epoch we set 3 for 3 training itteration ,you can set more\n",
        "#Next step is for the next 6 hours of prediction after the current hour\n",
        "\n",
        "\n",
        "def train_and_forcast(temp_values,window=24,epochs=3,next_step = 6):\n",
        "\n",
        "  vals = temp_values.reshape(-1,1)#We need to reshape this in 2D so that we can apply min max scaling to the data\n",
        "\n",
        "  #Implement the min max scaling\n",
        "  scaler = MinMaxScaler()\n",
        "  vals_scaled = scaler.fit_transform(vals)\n",
        "\n",
        "  #Make the (X,y) sequence -> Since LSTM is a supervised we need to define the input sequence and the output of the sequence\n",
        "  #we use the make_windows() function to create the sequence\n",
        "  #This is required for LSTM\n",
        "\n",
        "  X,y = make_windows(vals_scaled,window=window)\n",
        "\n",
        "  #Build the model -> Use Build LSTM function created above\n",
        "  model = build_lstm(window)\n",
        "  model.fit(X,y,epochs=epochs,batch_size=32,verbose=0)\n",
        "\n",
        "  #When we do the pridiction we need to ensure we are doing it based on the the current 24 hour(Current day) to the next 6 hours or more\n",
        "  #In this case we index the last 24 hours window\n",
        "  last_window = vals_scaled[-window:].copy()#Get the current 24 hours of data(Current day data )\n",
        "  pred_scale = []#We create an empty list to store the predicted output based on the models prediction , in simple words we are going to store the predicted values in the list\n",
        "\n",
        "  #If we were to predict the next 6 hours of temperature data, the model should produce 6 predicted temperature data\n",
        "  #In order for us to get the 6 tem data we need to itterate the model to predict 6 times or more\n",
        "  #In this case we use for loop\n",
        "\n",
        "  for _ in range(next_step):\n",
        "    pred = model.predict(last_window.reshape(1,window,1),verbose=0)[0,0]\n",
        "    #(1,window,1)-> (1 = batch size,window = number of time steps,1=one feature per time step[temperature only])\n",
        "    #[0,0] -> extract the prediction out of the 2D results\n",
        "    pred_scale.append(pred)#Pupulate the prediction into the list\n",
        "    #We want to focus on the current 24 hours window and the prediction\n",
        "    last_window= np.append(last_window[1:],pred)#last_window[1:]-> Drops the oldest value from the sequence,add new prediction at the end\n",
        "\n",
        "  #Revert he min max scaled data to the original data to visualize the accual output\n",
        "  preds = scaler.inverse_transform(np.array(pred_scale).reshape(-1,1)).flatten()\n",
        "\n",
        "  return preds\n",
        "\n",
        "\n"
      ],
      "metadata": {
        "id": "tYZAcnuNRO-t"
      },
      "execution_count": 23,
      "outputs": []
    },
    {
      "cell_type": "code",
      "source": [
        "#Check the prediction\n",
        "\n",
        "train_and_forcast(df['temp'].values)#Return all the predicted values"
      ],
      "metadata": {
        "colab": {
          "base_uri": "https://localhost:8080/"
        },
        "id": "iJv9ZhK7RW8P",
        "outputId": "42f502e0-668f-4489-ec85-08e900973276"
      },
      "execution_count": 24,
      "outputs": [
        {
          "output_type": "execute_result",
          "data": {
            "text/plain": [
              "array([25.394457, 25.432735, 25.485878, 25.547913, 25.6157  , 25.687244],\n",
              "      dtype=float32)"
            ]
          },
          "metadata": {},
          "execution_count": 24
        }
      ]
    }
  ]
}